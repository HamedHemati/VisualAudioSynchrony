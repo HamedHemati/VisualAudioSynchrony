{
 "cells": [
  {
   "cell_type": "code",
   "execution_count": 1,
   "metadata": {},
   "outputs": [],
   "source": [
    "import sys\n",
    "sys.path.append(\"..\")\n",
    "import os"
   ]
  },
  {
   "cell_type": "code",
   "execution_count": 2,
   "metadata": {},
   "outputs": [],
   "source": [
    "import torch\n",
    "import torch.nn as nn\n",
    "import matplotlib.pyplot as plt\n",
    "from torchvision.utils import make_grid\n",
    "import torchvision.models as models\n",
    "import torchvision.transforms as transforms\n",
    "from vasync.models.pretext_model import ClassifierPretextModel\n",
    "from vasync.utils.common import load_config\n",
    "from PIL import  Image"
   ]
  },
  {
   "cell_type": "code",
   "execution_count": 3,
   "metadata": {},
   "outputs": [],
   "source": [
    "def load_model(config_path, checkpoint_path):\n",
    "    config = load_config(config_path)\n",
    "    pretext_base_model = config[\"pretext_base_model\"]\n",
    "    num_cls = config[\"num_cls\"]\n",
    "    model = ClassifierPretextModel(pretext_base_model=pretext_base_model, \n",
    "                                   num_cls=num_cls)\n",
    "    state_dict = torch.load(checkpoint_path)\n",
    "    model.load_state_dict(state_dict)\n",
    "    return model"
   ]
  },
  {
   "cell_type": "code",
   "execution_count": 19,
   "metadata": {},
   "outputs": [],
   "source": [
    "checkpoint_path = \"../outputs/img_cls/img_cls_pseudolbl_30_res18/checkpoint_epoch_211.pt\"\n",
    "config_path = \"../experiments/img_cls_pseudolbl_30_res18/config.yml\"\n",
    "model = load_model(config_path, checkpoint_path)\n"
   ]
  },
  {
   "cell_type": "code",
   "execution_count": 20,
   "metadata": {},
   "outputs": [],
   "source": [
    "feature_extractor = nn.Sequential(*list(model.children())[:-1])"
   ]
  },
  {
   "cell_type": "code",
   "execution_count": 21,
   "metadata": {},
   "outputs": [],
   "source": [
    "transform = transforms.Compose([transforms.Resize(250),\n",
    "                                transforms.RandomCrop(245),\n",
    "                                transforms.ToTensor()])"
   ]
  },
  {
   "cell_type": "code",
   "execution_count": 30,
   "metadata": {},
   "outputs": [],
   "source": [
    "image_path = \"image.jpg\"\n",
    "img = Image.open(image_path)\n",
    "img = transform(img)\n",
    "# img = torch.randn(3, 245, 245)"
   ]
  },
  {
   "cell_type": "code",
   "execution_count": 31,
   "metadata": {},
   "outputs": [],
   "source": [
    "out_cls = model(img.unsqueeze(0))\n",
    "out_feat = feature_extractor(img.unsqueeze(0))\n",
    "softmax = nn.Softmax()"
   ]
  },
  {
   "cell_type": "code",
   "execution_count": 32,
   "metadata": {},
   "outputs": [
    {
     "name": "stdout",
     "output_type": "stream",
     "text": [
      "tensor(8, grad_fn=<NotImplemented>)\n"
     ]
    },
    {
     "name": "stderr",
     "output_type": "stream",
     "text": [
      "/home/hhemati/anaconda3/envs/p37/lib/python3.7/site-packages/ipykernel_launcher.py:1: UserWarning: Implicit dimension choice for softmax has been deprecated. Change the call to include dim=X as an argument.\n",
      "  \"\"\"Entry point for launching an IPython kernel.\n"
     ]
    }
   ],
   "source": [
    "cls = torch.argmax(softmax(out_cls.squeeze(0)))\n",
    "print(cls)"
   ]
  },
  {
   "cell_type": "code",
   "execution_count": 33,
   "metadata": {},
   "outputs": [
    {
     "name": "stdout",
     "output_type": "stream",
     "text": [
      "tensor([0.9577, 0.8805, 0.8058, 0.9287, 0.7888, 0.7403, 0.7728, 0.8075, 0.7891,\n",
      "        0.9216, 0.9136, 0.8617, 0.8608, 0.8035, 0.7510, 0.9360, 0.7173, 0.7624,\n",
      "        0.8416, 0.8263, 0.9226, 0.9489, 0.8930, 0.8997, 0.9084, 1.0693, 0.8130,\n",
      "        0.9748, 0.8615, 0.7219, 0.8499, 0.8022, 0.8825, 0.8353, 0.8481, 0.9434,\n",
      "        0.8202, 0.7612, 0.8156, 0.9212, 0.9211, 0.7550, 0.8337, 0.9041, 0.9076,\n",
      "        0.7733, 0.8722, 0.8664, 0.9151, 0.7610, 0.9193, 0.8521, 0.8440, 0.9862,\n",
      "        0.8516, 0.9805, 0.7971, 0.8028, 0.8070, 0.8627, 0.8286, 0.7863, 0.8303,\n",
      "        0.8762, 0.8962, 0.8476, 0.8102, 0.8963, 0.8405, 0.8502, 0.8108, 0.7919,\n",
      "        0.8089, 0.9208, 0.9359, 0.7912, 0.9826, 0.9035, 0.8362, 0.8499, 0.9196,\n",
      "        0.8627, 0.7768, 0.7548, 0.8328, 0.8057, 0.8684, 0.8084, 0.8209, 0.8549,\n",
      "        0.8819, 0.8388, 0.7871, 0.9497, 0.6854, 0.8203, 0.8782, 0.9492, 0.7442,\n",
      "        0.8078, 0.8194, 0.8410, 0.8746, 0.8036, 0.8146, 0.8361, 0.8135, 0.7670,\n",
      "        0.9162, 0.8360, 0.8197, 0.9117, 0.8038, 0.6918, 0.6698, 0.8144, 0.7539,\n",
      "        0.7431, 0.8489, 0.9307, 0.8098, 0.8121, 0.7987, 0.7659, 0.8457, 0.8625,\n",
      "        0.8643, 0.8715, 0.9320, 0.7725, 0.8489, 0.7770, 1.0087, 0.8570, 0.8674,\n",
      "        0.7592, 0.7648, 0.8795, 0.8449, 0.7150, 0.9297, 0.7846, 0.7989, 0.8718,\n",
      "        0.8219, 0.8851, 0.7442, 0.7856, 0.8373, 0.7675, 0.9234, 0.8264, 0.8000,\n",
      "        0.8650, 0.8592, 0.8465, 0.8529, 0.8545, 0.8922, 0.7838, 0.8969, 0.8059,\n",
      "        0.8006, 0.8908, 0.9262, 0.8828, 0.8219, 0.7616, 0.8341, 0.8334, 0.7776,\n",
      "        0.7792, 0.7878, 0.8475, 0.8640, 0.7398, 0.7618, 0.7945, 0.8265, 0.7537,\n",
      "        0.7627, 0.9711, 0.8908, 0.7994, 0.8800, 0.7623, 0.9093, 0.8067, 0.8551,\n",
      "        0.7213, 0.8151, 0.8805, 0.8593, 0.7438, 0.7850, 0.7400, 0.8415, 0.9334,\n",
      "        0.8567, 0.9813, 0.9074, 0.7312, 0.7782, 0.8213, 0.8836, 0.8601, 0.8748,\n",
      "        0.9160, 0.9962, 0.8765, 0.9845, 0.7282, 0.8092, 0.8644, 0.8214, 0.8544,\n",
      "        0.7313, 0.8956, 0.9253, 0.9733, 0.8373, 0.8115, 0.7481, 0.8512, 0.8680,\n",
      "        0.8761, 0.9127, 0.7674, 0.8774, 0.7906, 0.7970, 0.8557, 0.9051, 0.7877,\n",
      "        0.8169, 0.7158, 0.8249, 0.8093, 0.6509, 0.8228, 0.8399, 0.8222, 0.8909,\n",
      "        0.8896, 0.9310, 0.8190, 0.8629, 0.7990, 0.9597, 0.7953, 0.8714, 0.8462,\n",
      "        0.7440, 0.7977, 0.8594, 0.8771, 0.7985, 0.8377, 0.8389, 0.9887, 0.9624,\n",
      "        0.8832, 0.8445, 0.8740, 0.7644, 0.8888, 0.7774, 0.8605, 0.7409, 0.8387,\n",
      "        0.8021, 0.8489, 0.9415, 1.0581, 0.7354, 0.8212, 0.7444, 0.9711, 0.8269,\n",
      "        0.8490, 0.7760, 0.9490, 0.8690, 0.8722, 0.8872, 0.8857, 0.8205, 0.8509,\n",
      "        0.8589, 0.9898, 0.7892, 0.9277, 0.9089, 0.8302, 0.8248, 0.7313, 0.8796,\n",
      "        0.9216, 0.7657, 0.8317, 0.8487, 0.8480, 0.9093, 0.8676, 0.8256, 0.8419,\n",
      "        0.8825, 0.9359, 0.7621, 0.9994, 0.7865, 0.7278, 0.9323, 0.7426, 0.8005,\n",
      "        0.9274, 0.8048, 0.7807, 0.8026, 0.9225, 0.9407, 0.9707, 0.8526, 0.7394,\n",
      "        1.0002, 0.7888, 0.7274, 0.7709, 0.8312, 0.7859, 0.9028, 0.9071, 0.8194,\n",
      "        0.8082, 0.8467, 0.8561, 0.8383, 0.7913, 0.8163, 0.7876, 0.9364, 0.8902,\n",
      "        0.8050, 0.9118, 0.7892, 0.7814, 0.8178, 0.7726, 0.7767, 0.8436, 0.6908,\n",
      "        0.8066, 0.8099, 0.7997, 0.7713, 0.8046, 0.8379, 0.9287, 0.7903, 0.9159,\n",
      "        0.8330, 0.8587, 0.9903, 0.8488, 0.7718, 0.8750, 0.9203, 0.8509, 0.8327,\n",
      "        0.8788, 0.8260, 0.7976, 0.7570, 0.8352, 0.6952, 0.8527, 0.8716, 0.7167,\n",
      "        0.7682, 0.9731, 0.7842, 0.8535, 0.8293, 0.9239, 0.8624, 0.8162, 0.8512,\n",
      "        0.8395, 0.8245, 0.9654, 0.9217, 0.7578, 0.8129, 0.8864, 0.9342, 0.8194,\n",
      "        0.8576, 0.8964, 0.7271, 0.8190, 0.8516, 0.7702, 0.8087, 0.7620, 0.9172,\n",
      "        0.9149, 0.8749, 0.8835, 0.8082, 0.7992, 0.8339, 0.8340, 0.9165, 0.8697,\n",
      "        0.8948, 0.7478, 0.7796, 0.8724, 0.8552, 0.9215, 0.8280, 0.7461, 0.9386,\n",
      "        0.7532, 0.8661, 0.7045, 0.8836, 0.7478, 0.7475, 0.8572, 0.8202, 0.9584,\n",
      "        0.9185, 0.8233, 0.8517, 0.7942, 0.7929, 0.7120, 0.7589, 0.7325, 0.8611,\n",
      "        0.9501, 0.9064, 0.8433, 0.8519, 0.7954, 0.8532, 0.8191, 0.7434, 0.7848,\n",
      "        0.8926, 0.8463, 0.8494, 0.8856, 0.7704, 0.9340, 1.0063, 0.8914, 0.7631,\n",
      "        0.8265, 0.8902, 0.8570, 0.7731, 0.8986, 0.7390, 0.7494, 0.8244, 0.8911,\n",
      "        0.8566, 0.7373, 0.7826, 0.8420, 0.8256, 0.7965, 0.7797, 0.7427, 0.8221,\n",
      "        0.8398, 0.7327, 1.0226, 0.8784, 0.8537, 0.8047, 0.8057, 0.8111, 0.8637,\n",
      "        0.8816, 0.8766, 0.7858, 0.8944, 0.7449, 0.8202, 0.9794, 0.7562, 0.9207,\n",
      "        0.8576, 0.7487, 0.8327, 0.8362, 0.8891, 0.7700, 0.8692, 0.7740, 0.8711,\n",
      "        0.7732, 0.7622, 0.9223, 0.8421, 0.9380, 0.8107, 0.7947, 0.8598],\n",
      "       grad_fn=<ViewBackward>)\n",
      "tensor(0.8403, grad_fn=<MeanBackward0>)\n",
      "tensor(0.0678, grad_fn=<StdBackward0>)\n"
     ]
    }
   ],
   "source": [
    "print(out_feat.view(-1))\n",
    "print(torch.mean(out_feat))\n",
    "print(torch.std(out_feat))"
   ]
  },
  {
   "cell_type": "code",
   "execution_count": null,
   "metadata": {},
   "outputs": [],
   "source": []
  },
  {
   "cell_type": "code",
   "execution_count": null,
   "metadata": {},
   "outputs": [],
   "source": []
  }
 ],
 "metadata": {
  "kernelspec": {
   "display_name": "Python 3",
   "language": "python",
   "name": "python3"
  },
  "language_info": {
   "codemirror_mode": {
    "name": "ipython",
    "version": 3
   },
   "file_extension": ".py",
   "mimetype": "text/x-python",
   "name": "python",
   "nbconvert_exporter": "python",
   "pygments_lexer": "ipython3",
   "version": "3.7.6"
  }
 },
 "nbformat": 4,
 "nbformat_minor": 4
}
