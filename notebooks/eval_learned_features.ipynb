{
 "cells": [
  {
   "cell_type": "code",
   "execution_count": 1,
   "metadata": {},
   "outputs": [],
   "source": [
    "import sys\n",
    "sys.path.append(\"..\")\n",
    "import os"
   ]
  },
  {
   "cell_type": "code",
   "execution_count": 2,
   "metadata": {},
   "outputs": [],
   "source": [
    "import torch\n",
    "import torch.nn as nn\n",
    "import matplotlib.pyplot as plt\n",
    "from torchvision.utils import make_grid\n",
    "import torchvision.models as models\n",
    "import torchvision.transforms as transforms\n",
    "from vasync.models.pretext_model import ClassifierPretextModel\n",
    "from vasync.utils.common import load_config\n",
    "from PIL import  Image"
   ]
  },
  {
   "cell_type": "code",
   "execution_count": 3,
   "metadata": {},
   "outputs": [],
   "source": [
    "def load_model(config_path, checkpoint_path):\n",
    "    config = load_config(config_path)\n",
    "    pretext_base_model = config[\"pretext_base_model\"]\n",
    "    num_cls = config[\"num_cls\"]\n",
    "    model = ClassifierPretextModel(pretext_base_model=pretext_base_model, \n",
    "                                   num_cls=num_cls)\n",
    "    state_dict = torch.load(checkpoint_path)\n",
    "    model.load_state_dict(state_dict)\n",
    "    return model"
   ]
  },
  {
   "cell_type": "code",
   "execution_count": 24,
   "metadata": {},
   "outputs": [],
   "source": [
    "checkpoint_path = \"../outputs/img_cls/img_cls_pseudolbl30/checkpoint_epoch_127.pt\"\n",
    "config_path = \"../experiments/img_cls_pseudolbl_30/config.yml\"\n",
    "model = load_model(config_path, checkpoint_path)\n"
   ]
  },
  {
   "cell_type": "code",
   "execution_count": 25,
   "metadata": {},
   "outputs": [],
   "source": [
    "feature_extractor = nn.Sequential(*list(model.children())[:-1])"
   ]
  },
  {
   "cell_type": "code",
   "execution_count": 26,
   "metadata": {},
   "outputs": [],
   "source": [
    "transform = transforms.Compose([transforms.Resize(250),\n",
    "                                transforms.RandomCrop(245),\n",
    "                                transforms.ToTensor()])"
   ]
  },
  {
   "cell_type": "code",
   "execution_count": 27,
   "metadata": {},
   "outputs": [],
   "source": [
    "image_path = \"image.jpg\"\n",
    "img = Image.open(image_path)\n",
    "img = transform(img)\n",
    "# img = torch.randn(3, 245, 245)"
   ]
  },
  {
   "cell_type": "code",
   "execution_count": 28,
   "metadata": {},
   "outputs": [],
   "source": [
    "out_cls = model(img.unsqueeze(0))\n",
    "out_feat = feature_extractor(img.unsqueeze(0))\n",
    "softmax = nn.Softmax()"
   ]
  },
  {
   "cell_type": "code",
   "execution_count": 29,
   "metadata": {},
   "outputs": [
    {
     "name": "stdout",
     "output_type": "stream",
     "text": [
      "tensor(8, grad_fn=<NotImplemented>)\n"
     ]
    },
    {
     "name": "stderr",
     "output_type": "stream",
     "text": [
      "/home/hhemati/anaconda3/envs/p37/lib/python3.7/site-packages/ipykernel_launcher.py:1: UserWarning: Implicit dimension choice for softmax has been deprecated. Change the call to include dim=X as an argument.\n",
      "  \"\"\"Entry point for launching an IPython kernel.\n"
     ]
    }
   ],
   "source": [
    "cls = torch.argmax(softmax(out_cls.squeeze(0)))\n",
    "print(cls)"
   ]
  },
  {
   "cell_type": "code",
   "execution_count": 30,
   "metadata": {},
   "outputs": [
    {
     "name": "stdout",
     "output_type": "stream",
     "text": [
      "tensor([0.7491, 0.7407, 0.6550,  ..., 0.7606, 0.7630, 0.6945],\n",
      "       grad_fn=<ViewBackward>)\n",
      "tensor(0.7384, grad_fn=<MeanBackward0>)\n",
      "tensor(0.0701, grad_fn=<StdBackward0>)\n"
     ]
    }
   ],
   "source": [
    "print(out_feat.view(-1))\n",
    "print(torch.mean(out_feat))\n",
    "print(torch.std(out_feat))"
   ]
  },
  {
   "cell_type": "code",
   "execution_count": null,
   "metadata": {},
   "outputs": [],
   "source": []
  }
 ],
 "metadata": {
  "kernelspec": {
   "display_name": "Python 3",
   "language": "python",
   "name": "python3"
  },
  "language_info": {
   "codemirror_mode": {
    "name": "ipython",
    "version": 3
   },
   "file_extension": ".py",
   "mimetype": "text/x-python",
   "name": "python",
   "nbconvert_exporter": "python",
   "pygments_lexer": "ipython3",
   "version": "3.7.6"
  }
 },
 "nbformat": 4,
 "nbformat_minor": 4
}
