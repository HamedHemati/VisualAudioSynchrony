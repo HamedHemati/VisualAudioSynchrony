{
 "cells": [
  {
   "cell_type": "code",
   "execution_count": 105,
   "metadata": {},
   "outputs": [],
   "source": [
    "import torch\n",
    "import torch.nn as nn\n",
    "import torchvision.models as models"
   ]
  },
  {
   "cell_type": "code",
   "execution_count": 106,
   "metadata": {},
   "outputs": [],
   "source": [
    "base_model = models.resnet18(pretrained=False)"
   ]
  },
  {
   "cell_type": "code",
   "execution_count": 107,
   "metadata": {},
   "outputs": [
    {
     "name": "stdout",
     "output_type": "stream",
     "text": [
      "Linear(in_features=512, out_features=1000, bias=True)\n"
     ]
    }
   ],
   "source": [
    "print(list(base_model.children())[-1])\n"
   ]
  },
  {
   "cell_type": "code",
   "execution_count": 108,
   "metadata": {},
   "outputs": [],
   "source": [
    "num_cls = 30"
   ]
  },
  {
   "cell_type": "code",
   "execution_count": 86,
   "metadata": {},
   "outputs": [],
   "source": [
    "class PretextModel(nn.Module):\n",
    "    def __init__(self, num_cls):\n",
    "        super(PretextModel, self).__init__()\n",
    "        base_model = models.resnet50(pretrained=False)\n",
    "        self.base_model = nn.Sequential(*list(base_model.children())[:-1])\n",
    "        self.classifier = nn.Linear(2048, num_cls)\n",
    "    \n",
    "    def forward(self, x):\n",
    "        x = self.base_model(x)\n",
    "        x = x.view(x.size(0), -1)\n",
    "        x = self.classifier(x)\n",
    "        return x\n",
    "    "
   ]
  },
  {
   "cell_type": "code",
   "execution_count": 87,
   "metadata": {},
   "outputs": [],
   "source": [
    "pretext_model = PretextModel(30)\n"
   ]
  },
  {
   "cell_type": "code",
   "execution_count": 88,
   "metadata": {},
   "outputs": [
    {
     "name": "stdout",
     "output_type": "stream",
     "text": [
      "torch.Size([5, 30])\n"
     ]
    }
   ],
   "source": [
    "inp = torch.randn(5, 3, 245,245)\n",
    "out = pretext_model(inp)\n",
    "print(out.shape)"
   ]
  },
  {
   "cell_type": "markdown",
   "metadata": {},
   "source": [
    "## Simple net"
   ]
  },
  {
   "cell_type": "code",
   "execution_count": 103,
   "metadata": {},
   "outputs": [],
   "source": [
    "class SimpleModel(nn.Module):\n",
    "    def __init__(self):\n",
    "        super(SimpleModel, self).__init__()\n",
    "    \n",
    "        self.conv_layers = nn.Sequential(nn.Conv2d(3, 64, 5),\n",
    "                                         nn.BatchNorm2d(64),\n",
    "                                         nn.MaxPool2d(4, 4),\n",
    "                                         nn.Conv2d(64, 128, 3),\n",
    "                                         nn.BatchNorm2d(128),\n",
    "                                         nn.MaxPool2d(2, 2),\n",
    "                                         nn.Conv2d(128, 256, 3),\n",
    "                                         nn.BatchNorm2d(256),\n",
    "                                         nn.MaxPool2d(2, 2),\n",
    "                                         nn.Conv2d(256, 512, 3),\n",
    "                                         nn.BatchNorm2d(512),\n",
    "                                         nn.MaxPool2d(2, 2),) # B x 256 x 5 x 5)\n",
    "        self.linear = nn.Linear(512 * 2 * 2, 128)\n",
    "    \n",
    "    def forward(self, x):\n",
    "        x = self.conv_layers(x)\n",
    "        print(x.shape)\n",
    "        x = x.view(x.size(0), -1)\n",
    "        x = self.linear(x)\n",
    "        return x"
   ]
  },
  {
   "cell_type": "code",
   "execution_count": 104,
   "metadata": {},
   "outputs": [
    {
     "name": "stdout",
     "output_type": "stream",
     "text": [
      "torch.Size([5, 512, 2, 2])\n",
      "torch.Size([5, 128])\n"
     ]
    }
   ],
   "source": [
    "inp = torch.randn(5, 3, 128,128)\n",
    "simple_model = SimpleModel()\n",
    "out = simple_model(inp)\n",
    "print(out.shape)"
   ]
  },
  {
   "cell_type": "code",
   "execution_count": null,
   "metadata": {},
   "outputs": [],
   "source": []
  },
  {
   "cell_type": "code",
   "execution_count": null,
   "metadata": {},
   "outputs": [],
   "source": []
  }
 ],
 "metadata": {
  "kernelspec": {
   "display_name": "Python 3",
   "language": "python",
   "name": "python3"
  },
  "language_info": {
   "codemirror_mode": {
    "name": "ipython",
    "version": 3
   },
   "file_extension": ".py",
   "mimetype": "text/x-python",
   "name": "python",
   "nbconvert_exporter": "python",
   "pygments_lexer": "ipython3",
   "version": "3.7.6"
  }
 },
 "nbformat": 4,
 "nbformat_minor": 4
}
